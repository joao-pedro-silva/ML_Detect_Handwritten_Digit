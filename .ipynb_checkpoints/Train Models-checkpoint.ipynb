{
 "cells": [
  {
   "cell_type": "code",
   "execution_count": 1,
   "metadata": {},
   "outputs": [],
   "source": [
    "import tensorflow as tf\n",
    "import random\n",
    "import time\n",
    "from tensorflow.keras.models import Sequential\n",
    "from tensorflow.keras.callbacks import TensorBoard\n",
    "from tensorflow.keras.layers import Dense, Dropout, Activation, Flatten"
   ]
  },
  {
   "cell_type": "code",
   "execution_count": 2,
   "metadata": {},
   "outputs": [],
   "source": [
    "mnist = tf.keras.datasets.mnist # Dataset of 28x28 images of hand-written digits 0-9\n",
    "\n",
    "(x_train, y_train), (x_test, y_test) = mnist.load_data() # Unpack dataset into training and testing variables\n",
    "\n",
    "x_train = tf.keras.utils.normalize(x_train, axis=1) # normalise data (scaling)\n",
    "x_test = tf.keras.utils.normalize(x_test, axis=1) # normalise data"
   ]
  },
  {
   "cell_type": "code",
   "execution_count": null,
   "metadata": {},
   "outputs": [],
   "source": [
    "dense_layers = [1, 2, 3, 4] # Number of dense layers\n",
    "dense_layer_sizes = [16, 32, 64, 128, 256, 384, 512] # Number of neurons per layer\n",
    "\n",
    "for dense_layer in dense_layers:\n",
    "    for dense_layer_size in dense_layer_sizes:\n",
    "        NAME = \"{}-dense-{}-{}\".format(dense_layer, dense_layer_size, int(time.time())) # Model Name\n",
    "        tensorboard = TensorBoard(log_dir=\"Models/{}\".format(NAME)) # Save to Models Folder\n",
    "        print('- - - - - - - - - - - - - - - - -')\n",
    "        print(NAME)\n",
    "        print('- - - - - - - - - - - - - - - - -')\n",
    "        \n",
    "        model = Sequential()\n",
    "        \n",
    "        model.add(Flatten())\n",
    "        \n",
    "        for l in range(dense_layer):\n",
    "            model.add(Dropout(0.2))\n",
    "            model.add(Dense(dense_layer_size))\n",
    "            model.add(Activation(tf.nn.relu))\n",
    "            \n",
    "        model.add(Dense(10))\n",
    "        model.add(Activation(tf.nn.softmax))\n",
    "        \n",
    "        model.compile(optimizer=\"adam\", loss=\"sparse_categorical_crossentropy\", metrics= ['accuracy'])\n",
    "        history = model.fit(x_train, y_train, batch_size=25, epochs=10, validation_split=0.15, callbacks=[tensorboard])\n",
    "        \n",
    "        model.save(NAME)"
   ]
  }
 ],
 "metadata": {
  "kernelspec": {
   "display_name": "Python 3",
   "language": "python",
   "name": "python3"
  },
  "language_info": {
   "codemirror_mode": {
    "name": "ipython",
    "version": 3
   },
   "file_extension": ".py",
   "mimetype": "text/x-python",
   "name": "python",
   "nbconvert_exporter": "python",
   "pygments_lexer": "ipython3",
   "version": "3.7.7"
  }
 },
 "nbformat": 4,
 "nbformat_minor": 4
}
